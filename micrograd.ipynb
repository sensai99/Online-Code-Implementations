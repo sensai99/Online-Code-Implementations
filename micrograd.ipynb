{
 "cells": [
  {
   "cell_type": "markdown",
   "id": "405383d9-31df-4431-a8d6-b002dc5734d3",
   "metadata": {},
   "source": [
    "## Function derivative"
   ]
  },
  {
   "cell_type": "code",
   "execution_count": 135,
   "id": "483f6b7e-0ed1-4c98-a60c-d5a92a2107b0",
   "metadata": {},
   "outputs": [],
   "source": [
    "import numpy as np\n",
    "import matplotlib.pyplot as plt"
   ]
  },
  {
   "cell_type": "code",
   "execution_count": 45,
   "id": "dc785efb-8215-4806-8a72-7aca159d0d16",
   "metadata": {},
   "outputs": [],
   "source": [
    "def function(x):\n",
    "    return 3*x**2 - 2*x + 1"
   ]
  },
  {
   "cell_type": "code",
   "execution_count": 61,
   "id": "69ae1d07-cc7a-4793-aa3a-aeac2b1d7fc5",
   "metadata": {},
   "outputs": [
    {
     "data": {
      "text/plain": [
       "[<matplotlib.lines.Line2D at 0x12ba5e8b0>]"
      ]
     },
     "execution_count": 61,
     "metadata": {},
     "output_type": "execute_result"
    },
    {
     "data": {
      "image/png": "[encoded data removed]",
      "text/plain": [
       "<Figure size 640x480 with 1 Axes>"
      ]
     },
     "metadata": {},
     "output_type": "display_data"
    }
   ],
   "source": [
    "ys = []\n",
    "for x in np.arange(-4, 4, 0.5):\n",
    "    ys.append(function(x))\n",
    "\n",
    "plt.plot(ys)"
   ]
  },
  {
   "cell_type": "code",
   "execution_count": 50,
   "id": "37637c91-64d0-4e09-b00e-84295d0d1365",
   "metadata": {},
   "outputs": [],
   "source": [
    "def function_derviative(f, x, h):\n",
    "    return (f(x + h) - f(x))/h"
   ]
  },
  {
   "cell_type": "code",
   "execution_count": 62,
   "id": "480c5f0c-3ee2-4beb-91ac-6c36ea689ea2",
   "metadata": {},
   "outputs": [
    {
     "name": "stdout",
     "output_type": "stream",
     "text": [
      "Function derivative calculated: 10.000030000156812\n",
      "Function derivative actual: 10\n"
     ]
    }
   ],
   "source": [
    "x = 2\n",
    "\n",
    "# Function value at x = 2\n",
    "function(x)\n",
    "\n",
    "# Function derivative\n",
    "print('Function derivative calculated:', function_derviative(function, 2, h = 0.00001))\n",
    "print('Function derivative actual:', 6*x - 2)"
   ]
  },
  {
   "cell_type": "markdown",
   "id": "ae1e0825-f27a-49c1-a7d5-b0791303bd12",
   "metadata": {},
   "source": [
    "## Value class"
   ]
  },
  {
   "cell_type": "code",
   "execution_count": 1,
   "id": "a563b450-74b4-4ee1-99c2-031f855c9bfe",
   "metadata": {},
   "outputs": [],
   "source": [
    "class Value:\n",
    "\n",
    "    def __init__(self, data, _children = (), _op = ''):\n",
    "        self.data = data\n",
    "        self._prev = _children\n",
    "        self._op = _op\n",
    "\n",
    "    def __repr__(self):\n",
    "        return f'Value(data={self.data})'\n",
    "\n",
    "    def __add__(self, right_operand):\n",
    "        right_operand = right_operand if isinstance(right_operand, Value) else Value(data = right_operand)\n",
    "        out = Value(data = self.data + right_operand.data)\n",
    "        out._prev = (self, right_operand)\n",
    "        out._op = '+'\n",
    "        return out\n",
    "\n",
    "    def __radd__(self, right_operand):\n",
    "        out = self + right_operand\n",
    "        return out\n",
    "\n",
    "    def __mul__(self, right_operand):\n",
    "        right_operand = right_operand if isinstance(right_operand, Value) else Value(data = right_operand)\n",
    "        out = Value(data = self.data * right_operand.data)\n",
    "        out._prev = (self, right_operand)\n",
    "        out._op = '-'\n",
    "        return out\n",
    "\n",
    "    def __rmul__(self, right_operand):\n",
    "        out = self * right_operand\n",
    "        return out"
   ]
  },
  {
   "cell_type": "code",
   "execution_count": 2,
   "id": "700879a5-9161-446a-bb07-c2c8941fcdf4",
   "metadata": {},
   "outputs": [
    {
     "name": "stdout",
     "output_type": "stream",
     "text": [
      "a + 5.0: Value(data=7.0)\n",
      "5.0 + a: Value(data=7.0)\n",
      "a + b + c: Value(data=15.0)\n",
      "----------\n",
      "a * 5.0: Value(data=10.0)\n",
      "5.0 * a: Value(data=10.0)\n",
      "a * b * c: Value(data=60.0)\n"
     ]
    }
   ],
   "source": [
    "a = Value(2.0)\n",
    "b = Value(10.0)\n",
    "c = Value(3.0)\n",
    "\n",
    "print('a + 5.0:', a + 5.0)\n",
    "print('5.0 + a:', 5.0 + a)\n",
    "print('a + b + c:', a + b + c)\n",
    "print('-' * 10)\n",
    "print('a * 5.0:', a * 5.0)\n",
    "print('5.0 * a:', 5.0 * a)\n",
    "print('a * b * c:', a * b * c)"
   ]
  },
  {
   "cell_type": "code",
   "execution_count": 3,
   "id": "35486884-b7e8-4c12-8f61-e98617749161",
   "metadata": {},
   "outputs": [
    {
     "data": {
      "text/plain": [
       "((Value(data=2.0), Value(data=10.0)), '+')"
      ]
     },
     "execution_count": 3,
     "metadata": {},
     "output_type": "execute_result"
    }
   ],
   "source": [
    "d = a + b\n",
    "d._prev, d._op"
   ]
  },
  {
   "cell_type": "markdown",
   "id": "0a6da7b2-3757-4ae6-b2d9-954d6fbd5931",
   "metadata": {},
   "source": [
    "## Visualisation"
   ]
  },
  {
   "cell_type": "code",
   "execution_count": 4,
   "id": "721fa8a1-6f57-4657-b7a5-9fcc6a607b57",
   "metadata": {},
   "outputs": [],
   "source": [
    "import graphviz\n",
    "\n",
    "def trace(root):\n",
    "  # builds a set of all nodes and edges in a graph\n",
    "  nodes, edges = set(), set()\n",
    "  def build(v):\n",
    "    if v not in nodes:\n",
    "      nodes.add(v)\n",
    "      for child in v._prev:\n",
    "        edges.add((child, v))\n",
    "        build(child)\n",
    "  build(root)\n",
    "  return nodes, edges\n",
    "\n",
    "def draw_dot(root):\n",
    "  dot = graphviz.Digraph(format='svg', graph_attr={'rankdir': 'LR'}) # LR = left to right\n",
    "  \n",
    "  nodes, edges = trace(root)\n",
    "  for n in nodes:\n",
    "    uid = str(id(n))\n",
    "    # for any value in the graph, create a rectangular ('record') node for it\n",
    "    dot.node(name = uid, label = '{data %.4f}' % (n.data), shape='record')\n",
    "    if n._op:\n",
    "      # if this value is a result of some operation, create an op node for it\n",
    "      dot.node(name = uid + n._op, label = n._op)\n",
    "      # and connect this node to it\n",
    "      dot.edge(uid + n._op, uid)\n",
    "\n",
    "  for n1, n2 in edges:\n",
    "    # connect n1 to the op node of n2\n",
    "    dot.edge(str(id(n1)), str(id(n2)) + n2._op)\n",
    "\n",
    "  return dot"
   ]
  },
  {
   "cell_type": "code",
   "execution_count": 8,
   "id": "351caee3-87ae-46ca-82f2-ba6da378877a",
   "metadata": {},
   "outputs": [
    {
     "data": {
      "image/svg+xml": [
       "<?xml version=\"1.0\" encoding=\"UTF-8\" standalone=\"no\"?>\n",
       "<!DOCTYPE svg PUBLIC \"-//W3C//DTD SVG 1.1//EN\"\n",
       " \"http://www.w3.org/Graphics/SVG/1.1/DTD/svg11.dtd\">\n",
       "<!-- Generated by graphviz version 8.1.0 (20230707.0739)\n",
       " -->\n",
       "<!-- Pages: 1 -->\n",
       "<svg width=\"307pt\" height=\"100pt\"\n",
       " viewBox=\"0.00 0.00 307.00 100.00\" xmlns=\"http://www.w3.org/2000/svg\" xmlns:xlink=\"http://www.w3.org/1999/xlink\">\n",
       "<g id=\"graph0\" class=\"graph\" transform=\"scale(1 1) rotate(0) translate(4 96)\">\n",
       "<polygon fill=\"white\" stroke=\"none\" points=\"-4,4 -4,-96 303,-96 303,4 -4,4\"/>\n",
       "<!-- 4605474176 -->\n",
       "<g id=\"node1\" class=\"node\">\n",
       "<title>4605474176</title>\n",
       "<polygon fill=\"none\" stroke=\"black\" points=\"3.38,-55.5 3.38,-91.5 83.12,-91.5 83.12,-55.5 3.38,-55.5\"/>\n",
       "<text text-anchor=\"middle\" x=\"43.25\" y=\"-67.7\" font-family=\"Times,serif\" font-size=\"14.00\">data 2.0000</text>\n",
       "</g>\n",
       "<!-- 4605473504+ -->\n",
       "<g id=\"node4\" class=\"node\">\n",
       "<title>4605473504+</title>\n",
       "<ellipse fill=\"none\" stroke=\"black\" cx=\"149.5\" cy=\"-45.5\" rx=\"27\" ry=\"18\"/>\n",
       "<text text-anchor=\"middle\" x=\"149.5\" y=\"-39.33\" font-family=\"Times,serif\" font-size=\"14.00\">+</text>\n",
       "</g>\n",
       "<!-- 4605474176&#45;&gt;4605473504+ -->\n",
       "<g id=\"edge3\" class=\"edge\">\n",
       "<title>4605474176&#45;&gt;4605473504+</title>\n",
       "<path fill=\"none\" stroke=\"black\" d=\"M83.07,-63.07C93,-60.41 103.61,-57.56 113.34,-54.94\"/>\n",
       "<polygon fill=\"black\" stroke=\"black\" points=\"114.12,-58.09 122.87,-52.12 112.3,-51.33 114.12,-58.09\"/>\n",
       "</g>\n",
       "<!-- 4605473024 -->\n",
       "<g id=\"node2\" class=\"node\">\n",
       "<title>4605473024</title>\n",
       "<polygon fill=\"none\" stroke=\"black\" points=\"0,-0.5 0,-36.5 86.5,-36.5 86.5,-0.5 0,-0.5\"/>\n",
       "<text text-anchor=\"middle\" x=\"43.25\" y=\"-12.7\" font-family=\"Times,serif\" font-size=\"14.00\">data 10.0000</text>\n",
       "</g>\n",
       "<!-- 4605473024&#45;&gt;4605473504+ -->\n",
       "<g id=\"edge2\" class=\"edge\">\n",
       "<title>4605473024&#45;&gt;4605473504+</title>\n",
       "<path fill=\"none\" stroke=\"black\" d=\"M86.35,-29.4C95.33,-31.73 104.72,-34.16 113.41,-36.41\"/>\n",
       "<polygon fill=\"black\" stroke=\"black\" points=\"112.39,-40.02 122.94,-39.14 114.14,-33.24 112.39,-40.02\"/>\n",
       "</g>\n",
       "<!-- 4605473504 -->\n",
       "<g id=\"node3\" class=\"node\">\n",
       "<title>4605473504</title>\n",
       "<polygon fill=\"none\" stroke=\"black\" points=\"212.5,-27.5 212.5,-63.5 299,-63.5 299,-27.5 212.5,-27.5\"/>\n",
       "<text text-anchor=\"middle\" x=\"255.75\" y=\"-39.7\" font-family=\"Times,serif\" font-size=\"14.00\">data 12.0000</text>\n",
       "</g>\n",
       "<!-- 4605473504+&#45;&gt;4605473504 -->\n",
       "<g id=\"edge1\" class=\"edge\">\n",
       "<title>4605473504+&#45;&gt;4605473504</title>\n",
       "<path fill=\"none\" stroke=\"black\" d=\"M176.81,-45.5C184.44,-45.5 193.06,-45.5 201.72,-45.5\"/>\n",
       "<polygon fill=\"black\" stroke=\"black\" points=\"201.63,-49 211.63,-45.5 201.63,-42 201.63,-49\"/>\n",
       "</g>\n",
       "</g>\n",
       "</svg>\n"
      ],
      "text/plain": [
       "<graphviz.graphs.Digraph at 0x112852880>"
      ]
     },
     "execution_count": 8,
     "metadata": {},
     "output_type": "execute_result"
    }
   ],
   "source": [
    "draw_dot(d)"
   ]
  },
  {
   "cell_type": "code",
   "execution_count": null,
   "id": "ca1d4e7e-aae5-4317-b0f1-6a589631a12e",
   "metadata": {},
   "outputs": [],
   "source": []
  }
 ],
 "metadata": {
  "kernelspec": {
   "display_name": "Python 3 (ipykernel)",
   "language": "python",
   "name": "python3"
  },
  "language_info": {
   "codemirror_mode": {
    "name": "ipython",
    "version": 3
   },
   "file_extension": ".py",
   "mimetype": "text/x-python",
   "name": "python",
   "nbconvert_exporter": "python",
   "pygments_lexer": "ipython3",
   "version": "3.9.17"
  }
 },
 "nbformat": 4,
 "nbformat_minor": 5
}
