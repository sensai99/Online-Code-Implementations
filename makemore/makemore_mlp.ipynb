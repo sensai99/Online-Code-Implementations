{
 "cells": [
  {
   "cell_type": "code",
   "execution_count": 148,
   "id": "443061d6-c6e3-425d-9a5a-4715080490a9",
   "metadata": {},
   "outputs": [],
   "source": [
    "import torch\n",
    "import torch.nn as nn\n",
    "import torch.nn.functional as F\n",
    "%matplotlib inline\n",
    "import matplotlib.pyplot as plt"
   ]
  },
  {
   "cell_type": "code",
   "execution_count": 114,
   "id": "7471ce9a-8203-4916-a8aa-791d29f26de8",
   "metadata": {},
   "outputs": [
    {
     "data": {
      "text/plain": [
       "['emma', 'olivia', 'ava', 'isabella', 'sophia']"
      ]
     },
     "execution_count": 114,
     "metadata": {},
     "output_type": "execute_result"
    }
   ],
   "source": [
    "# Read the raw data\n",
    "words = open('names.txt', 'r').read().splitlines()\n",
    "words[:5]"
   ]
  },
  {
   "cell_type": "code",
   "execution_count": 115,
   "id": "7a772899-f5c5-4024-b1a9-9afa025858e6",
   "metadata": {},
   "outputs": [
    {
     "data": {
      "text/plain": [
       "32033"
      ]
     },
     "execution_count": 115,
     "metadata": {},
     "output_type": "execute_result"
    }
   ],
   "source": [
    "len(words)"
   ]
  },
  {
   "cell_type": "code",
   "execution_count": 116,
   "id": "adbc6bd0-e149-470e-96c7-867f94893d63",
   "metadata": {},
   "outputs": [
    {
     "name": "stdout",
     "output_type": "stream",
     "text": [
      "{1: 'a', 2: 'b', 3: 'c', 4: 'd', 5: 'e', 6: 'f', 7: 'g', 8: 'h', 9: 'i', 10: 'j', 11: 'k', 12: 'l', 13: 'm', 14: 'n', 15: 'o', 16: 'p', 17: 'q', 18: 'r', 19: 's', 20: 't', 21: 'u', 22: 'v', 23: 'w', 24: 'x', 25: 'y', 26: 'z', 0: '.'}\n"
     ]
    }
   ],
   "source": [
    "# Build the vocab\n",
    "chars = sorted(set(list(''.join(words))))\n",
    "\n",
    "ctoi = {c: i + 1 for i, c in enumerate(chars)}\n",
    "ctoi['.'] = 0\n",
    "itoc = {i: c for c, i in ctoi.items()}\n",
    "print(itoc)"
   ]
  },
  {
   "cell_type": "code",
   "execution_count": 232,
   "id": "18e883fe-a2f6-49db-ae92-4c7ca57382bf",
   "metadata": {},
   "outputs": [],
   "source": [
    "# Build the dataset\n",
    "context_length = 3 # consider three words to predict the next word\n",
    "X, y = [],[]\n",
    "for word in words:\n",
    "    # print('WORD', word)\n",
    "    context = [0] * context_length\n",
    "    for char in word + '.':\n",
    "        id = ctoi[char]\n",
    "        X.append(context)\n",
    "        y.append(id)\n",
    "\n",
    "        # print(''.join(itoc[i] for i in context), '-->', itoc[id])\n",
    "        context = context[1:] + [id]\n",
    "\n",
    "X = torch.tensor(X)\n",
    "y = torch.tensor(y)"
   ]
  },
  {
   "cell_type": "code",
   "execution_count": 233,
   "id": "76e69150-6426-4fe1-9856-2260fc6b4fb5",
   "metadata": {},
   "outputs": [
    {
     "data": {
      "text/plain": [
       "(torch.Size([228146, 3]), torch.Size([228146]), torch.int64, torch.int64)"
      ]
     },
     "execution_count": 233,
     "metadata": {},
     "output_type": "execute_result"
    }
   ],
   "source": [
    "X.shape, y.shape, X.dtype, y.dtype"
   ]
  },
  {
   "cell_type": "code",
   "execution_count": 268,
   "id": "78eb1e79-bf0b-4280-8658-87bc6d99fa33",
   "metadata": {},
   "outputs": [],
   "source": [
    "# Initialize parameters\n",
    "\n",
    "g = torch.Generator().manual_seed(2147483647)\n",
    "\n",
    "# Lookup table for character embedding\n",
    "emb_dim = 10\n",
    "C = torch.randn((27, emb_dim), generator = g)\n",
    "\n",
    "hidden_layer_size = 300\n",
    "W1 = torch.randn(3 * emb_dim, hidden_layer_size, generator = g)\n",
    "b1 = torch.randn(hidden_layer_size, generator = g)\n",
    "W2 = torch.randn(hidden_layer_size, 27, generator = g)\n",
    "b2 = torch.randn(27, generator = g)\n",
    "\n",
    "parameters = [C, W1, b1, W2, b2]"
   ]
  },
  {
   "cell_type": "code",
   "execution_count": 269,
   "id": "befbd76f-fde0-457c-9e76-4096a62535b2",
   "metadata": {},
   "outputs": [
    {
     "data": {
      "text/plain": [
       "torch.Size([228146, 3, 10])"
      ]
     },
     "execution_count": 269,
     "metadata": {},
     "output_type": "execute_result"
    }
   ],
   "source": [
    "# Indexing all the chars in a given input\n",
    "# C[[5, 6, 7]]\n",
    "embs = C[X]\n",
    "embs.shape\n",
    "\n",
    "# embs.storage() -> Stores the tensor values in a sequential manner\n",
    "# When view is applied, it just modifies some attributes of the embs (like storage offset, etc) so that it is represented as we like\n",
    "# So there is no new memory created for this operation\n",
    "# embs = embs.view(-1, 6)"
   ]
  },
  {
   "cell_type": "code",
   "execution_count": 270,
   "id": "2107b0ec-561f-458f-be7a-72f7621be0e0",
   "metadata": {},
   "outputs": [],
   "source": [
    "# Softmax + Cross entropy losss\n",
    "# This is very inefficient as it creates copies of tensors and mathematically unstable for large numbers\n",
    "# counts = logits.exp()\n",
    "# probs = counts/counts.sum(1, keepdims = True)\n",
    "# loss = -probs[torch.arange(32), y].log().mean()\n",
    "\n",
    "# loss = F.cross_entropy(logits, y) is Stable"
   ]
  },
  {
   "cell_type": "code",
   "execution_count": 271,
   "id": "462c3ad2-e7c0-459d-8758-d87db4655c40",
   "metadata": {},
   "outputs": [],
   "source": [
    "for p in parameters:\n",
    "    p.requires_grad = True"
   ]
  },
  {
   "cell_type": "code",
   "execution_count": 245,
   "id": "9c3d9db0-2bdc-45bb-9e22-221bf15cc6d9",
   "metadata": {},
   "outputs": [],
   "source": [
    "# Learning rate experimentation\n",
    "lre = torch.linspace(-3, 0, 1000)\n",
    "lrs = 10 ** lre"
   ]
  },
  {
   "cell_type": "code",
   "execution_count": 246,
   "id": "f537cd76-7d31-4455-8588-be890520de10",
   "metadata": {},
   "outputs": [
    {
     "name": "stdout",
     "output_type": "stream",
     "text": [
      "loss --> 6.921151161193848\n"
     ]
    }
   ],
   "source": [
    "batch_size = 32\n",
    "\n",
    "lri = []\n",
    "lossi = []\n",
    "for i in range(1000):\n",
    "\n",
    "    # Get the minibatch\n",
    "    ids = torch.randint(0, X.shape[0], (batch_size, ))\n",
    "\n",
    "    embs = C[X[ids]] # [32, 3, 2]\n",
    "    embs = embs.view(-1, 6)\n",
    "\n",
    "    # Fwd pass\n",
    "    h = torch.tanh(embs @ W1 + b1) # [32, 100]\n",
    "    logits = h @ W2 + b2 # [32, 27]\n",
    "    loss = F.cross_entropy(logits, y[ids])\n",
    "\n",
    "    # Zero grad for backward pass\n",
    "    for p in parameters:\n",
    "        p.grad = None\n",
    "\n",
    "    # Compute grad\n",
    "    loss.backward()\n",
    "\n",
    "    # Gradient descent - optimization step\n",
    "    # Update the parameters\n",
    "    lr = lrs[i]\n",
    "    # lr = 0.1\n",
    "    # lr = 0.001 # lr decay for the last few steps\n",
    "    for p in parameters:\n",
    "        p.data += -lr * p.grad\n",
    "\n",
    "    # Track lr vs loss\n",
    "    lri.append(lre[i])\n",
    "    lossi.append(loss.item())\n",
    "        \n",
    "print('loss -->', loss.item())"
   ]
  },
  {
   "cell_type": "code",
   "execution_count": 247,
   "id": "b0de56ea-1fb1-46e3-958c-86137883d742",
   "metadata": {},
   "outputs": [
    {
     "data": {
      "image/png": "[encoded data removed]",
      "text/plain": [
       "<Figure size 640x480 with 1 Axes>"
      ]
     },
     "metadata": {},
     "output_type": "display_data"
    }
   ],
   "source": [
    "# plt.plot(lri, lossi)\n",
    "# plt.title('Loss vs LR')\n",
    "# plt.show()\n",
    "\n",
    "# # LR (exponent) near -1 is a good value i.e learning rate of 10**-1 -> 0.1"
   ]
  },
  {
   "cell_type": "code",
   "execution_count": 199,
   "id": "ee46409f-ac31-48eb-849f-663987f30c75",
   "metadata": {},
   "outputs": [],
   "source": [
    "# Model with very less training loss doesn't necessarily mean a good model\n",
    "# larger models could overfit -> work really well on the train data but perform bad on the test\n",
    "# So we need to have the train,val and test split to check this behaviour with different variations of the network"
   ]
  },
  {
   "cell_type": "code",
   "execution_count": 253,
   "id": "d8040883-5a64-4922-a56f-6d5ae79731c5",
   "metadata": {},
   "outputs": [],
   "source": [
    "# Build the dataset (train, val and test)\n",
    "def build_dataset(words):\n",
    "    context_length = 3 # consider three words to predict the next word\n",
    "    X, y = [],[]\n",
    "    for word in words:\n",
    "        # print('WORD', word)\n",
    "        context = [0] * context_length\n",
    "        for char in word + '.':\n",
    "            id = ctoi[char]\n",
    "            X.append(context)\n",
    "            y.append(id)\n",
    "    \n",
    "            # print(''.join(itoc[i] for i in context), '-->', itoc[id])\n",
    "            context = context[1:] + [id]\n",
    "    \n",
    "    X = torch.tensor(X)\n",
    "    y = torch.tensor(y)\n",
    "    return X, y\n",
    "\n",
    "random.seed(42)\n",
    "random.shuffle(words)\n",
    "idx1 = int(0.8 * len(words))\n",
    "idx2 = int(0.9 * len(words))\n",
    "\n",
    "Xtrain, ytrain = build_dataset(words[:idx1])\n",
    "Xval, yval = build_dataset(words[idx1:idx2])\n",
    "Xtest, ytest = build_dataset(words[idx2:])"
   ]
  },
  {
   "cell_type": "code",
   "execution_count": 283,
   "id": "8dd746b5-0cb6-4d18-9937-ad89bfad29b3",
   "metadata": {},
   "outputs": [],
   "source": [
    "def fwd_pass(Xtemp, ytemp):\n",
    "    # Get the minibatch\n",
    "    ids = torch.randint(0, Xtemp.shape[0], (batch_size, ))\n",
    "\n",
    "    embs = C[Xtemp[ids]] # [32, 3, 2]\n",
    "    embs = embs.view(-1, 30)\n",
    "    \n",
    "    h = torch.tanh(embs @ W1 + b1) # [32, 100]\n",
    "    logits = h @ W2 + b2 # [32, 27]\n",
    "    loss = F.cross_entropy(logits, ytemp[ids])\n",
    "    return loss\n",
    "    \n",
    "def train():\n",
    "    batch_size = 32\n",
    "    losses_train = []\n",
    "    losses_val = []\n",
    "    for i in range(30000):\n",
    "    \n",
    "        # Fwd pass\n",
    "        loss_train = fwd_pass(Xtrain, ytrain)\n",
    "        loss_val = fwd_pass(Xval, yval)\n",
    "    \n",
    "        # Zero grad for backward pass\n",
    "        for p in parameters:\n",
    "            p.grad = None\n",
    "    \n",
    "        # Compute grad\n",
    "        loss_train.backward()\n",
    "    \n",
    "        # Gradient descent - optimization step\n",
    "        # Update the parameters\n",
    "        # lr = lrs[i]\n",
    "        # lr = 0.1\n",
    "        lr = 0.001 # lr decay for the last few steps\n",
    "        for p in parameters:\n",
    "            p.data += -lr * p.grad\n",
    "    \n",
    "        # Track lr vs loss\n",
    "        losses_train.append(loss_train.item())\n",
    "        losses_val.append(loss_val.item())\n",
    "    \n",
    "    print('Loss train -->', losses_train[-1])\n",
    "    print('Loss val -->', losses_val[-1])"
   ]
  },
  {
   "cell_type": "code",
   "execution_count": null,
   "id": "b8b064a2-f38d-4b85-a1b5-ea5c821314f8",
   "metadata": {},
   "outputs": [],
   "source": [
    "train()"
   ]
  },
  {
   "cell_type": "code",
   "execution_count": 257,
   "id": "8764e78a-e241-494a-b74b-b3a6b25bd3fb",
   "metadata": {},
   "outputs": [
    {
     "data": {
      "image/png": "[encoded data removed]",
      "text/plain": [
       "<Figure size 640x480 with 1 Axes>"
      ]
     },
     "metadata": {},
     "output_type": "display_data"
    }
   ],
   "source": [
    "plt.plot(losses_train)\n",
    "plt.plot(losses_val)\n",
    "plt.show()\n",
    "# Both the train and val losses are equal (not overfitting) and relatively high (underfitting)\n",
    "# Need to increase the complexity of the model"
   ]
  },
  {
   "cell_type": "code",
   "execution_count": 285,
   "id": "b90257e0-d20d-4e6a-9db2-24c6c0d9383b",
   "metadata": {},
   "outputs": [
    {
     "name": "stdout",
     "output_type": "stream",
     "text": [
      "Loss train --> 2.407904863357544\n",
      "Loss val --> 1.925126075744629\n"
     ]
    }
   ],
   "source": [
    "train()"
   ]
  },
  {
   "cell_type": "code",
   "execution_count": 289,
   "id": "0e3576d5-90cf-4408-9d9a-0e563420cbde",
   "metadata": {},
   "outputs": [
    {
     "name": "stdout",
     "output_type": "stream",
     "text": [
      "aerestah.\n",
      "eldsa.\n",
      "benley.\n",
      "aza.\n",
      "llia.\n",
      "juric.\n",
      "lie.\n",
      "lamarr.\n",
      "rabelridtayla.\n",
      "karicis.\n",
      "dhirianneen.\n",
      "setah.\n",
      "ber.\n",
      "jun.\n",
      "dabelsen.\n",
      "macarhton.\n",
      "tas.\n",
      "sera.\n",
      "odei.\n",
      "wace.\n"
     ]
    }
   ],
   "source": [
    "# Inference\n",
    "g = torch.Generator().manual_seed(2147483647 * 10)\n",
    "\n",
    "for _ in range(20):\n",
    "    out = []\n",
    "    context = [0] * context_length\n",
    "    while True:\n",
    "        emb = C[torch.tensor([context])]\n",
    "        h = torch.tanh(emb.view(1, -1) @ W1 + b1)\n",
    "        logits = h @ W2 + b2\n",
    "        probs = F.softmax(logits, dim = 1)\n",
    "        idx = torch.multinomial(probs, num_samples = 1, generator = g).item()\n",
    "        context = context[1:] + [idx]\n",
    "        out.append(idx)\n",
    "\n",
    "        # If we predict '.' then break\n",
    "        # i.e it's the end of the sequence\n",
    "        if idx == 0:\n",
    "            break\n",
    "    print(''.join(itoc[i] for i in out))"
   ]
  },
  {
   "cell_type": "code",
   "execution_count": 290,
   "id": "95c5643f-52b2-41b3-867b-9a4e9e299345",
   "metadata": {},
   "outputs": [],
   "source": [
    "# Notes\n",
    "# Choosing learning rate:\n",
    "# 1. Choose a diverse set of values and find a good range\n",
    "# 2. In this smaller range, explore the values.\n",
    "# 3. Use a linear/log scale decay for the learning rate in the training process\n",
    "\n",
    "# Overfitting/Underfitting - Use train and val splits to test different variants of the network"
   ]
  },
  {
   "cell_type": "code",
   "execution_count": null,
   "id": "d97f1349-fd88-4c1c-a8b6-358ada559c8f",
   "metadata": {},
   "outputs": [],
   "source": []
  }
 ],
 "metadata": {
  "kernelspec": {
   "display_name": "Python 3 (ipykernel)",
   "language": "python",
   "name": "python3"
  },
  "language_info": {
   "codemirror_mode": {
    "name": "ipython",
    "version": 3
   },
   "file_extension": ".py",
   "mimetype": "text/x-python",
   "name": "python",
   "nbconvert_exporter": "python",
   "pygments_lexer": "ipython3",
   "version": "3.12.8"
  }
 },
 "nbformat": 4,
 "nbformat_minor": 5
}
